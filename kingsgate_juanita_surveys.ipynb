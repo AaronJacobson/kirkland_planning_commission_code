{
 "cells": [
  {
   "cell_type": "code",
   "execution_count": 1,
   "metadata": {},
   "outputs": [],
   "source": [
    "import pandas as pd\n",
    "import matplotlib.pyplot as plt\n",
    "import numpy as np"
   ]
  },
  {
   "cell_type": "code",
   "execution_count": 2,
   "metadata": {},
   "outputs": [],
   "source": [
    "def get_cols(df: pd.DataFrame) -> list[str]:\n",
    "    copy_cols = []\n",
    "    last_column = None\n",
    "    for c in df.columns:\n",
    "        if \"Unnamed: \" in c:\n",
    "            copy_cols.append(last_column)\n",
    "        else:\n",
    "            last_column = c\n",
    "            copy_cols.append(c)\n",
    "    new_columns = []\n",
    "    for i in range(df.head(1).values[0].shape[0]):\n",
    "        new_columns.append(\n",
    "            copy_cols[i] + \"|\" + str(df.head(1).values[0][i])\n",
    "        )\n",
    "    return new_columns"
   ]
  },
  {
   "cell_type": "code",
   "execution_count": 3,
   "metadata": {},
   "outputs": [],
   "source": [
    "df_juanita = pd.read_excel(\"data/kingsgate_juanita/Data_All_Juanita/Excel/Juanita Neighborhood Community Survey.xlsx\")\n",
    "df_kingsgate = pd.read_excel(\"data/kingsgate_juanita/Data_All_Kingsgate/Excel/Kingsgate Neighborhood Community Survey.xlsx\")\n",
    "\n",
    "df_juanita.columns = get_cols(df_juanita)\n",
    "df_juanita = df_juanita.tail(df_juanita.shape[0] - 1)\n",
    "df_kingsgate.columns = get_cols(df_kingsgate)\n",
    "df_kingsgate = df_kingsgate.tail(df_kingsgate.shape[0] - 1)"
   ]
  },
  {
   "cell_type": "code",
   "execution_count": 4,
   "metadata": {},
   "outputs": [
    {
     "data": {
      "text/plain": [
       "Index(['How would you rate the affordability of housing in the neighborhood? |Response'], dtype='object')"
      ]
     },
     "execution_count": 4,
     "metadata": {},
     "output_type": "execute_result"
    }
   ],
   "source": [
    "df_juanita.columns[df_juanita.columns.str.lower().str.contains(\"how would you rate the affordability\")]"
   ]
  },
  {
   "cell_type": "code",
   "execution_count": 5,
   "metadata": {},
   "outputs": [
    {
     "data": {
      "text/plain": [
       "How would you rate the affordability of housing in the neighborhood? |Response\n",
       "Extremely affordable for me/my family       0.056856\n",
       "Extremely unaffordable for me/my family     0.127090\n",
       "Relatively affordable for me/my family      0.364548\n",
       "Relatively unaffordable for me/my family    0.301003\n",
       "Unsure/can't decide                         0.150502\n",
       "dtype: float64"
      ]
     },
     "execution_count": 5,
     "metadata": {},
     "output_type": "execute_result"
    }
   ],
   "source": [
    "df_juanita[[\n",
    "    \"What is your household income?|Response\",\n",
    "    \"How would you rate the affordability of housing in the neighborhood? |Response\"\n",
    "]].assign(count=1).pivot_table(\n",
    "    index=\"What is your household income?|Response\",\n",
    "    columns=\"How would you rate the affordability of housing in the neighborhood? |Response\",\n",
    "    values=\"count\",\n",
    "    aggfunc=\"sum\",\n",
    ").sum(axis=0) / df_juanita[[\n",
    "    \"What is your household income?|Response\",\n",
    "    \"How would you rate the affordability of housing in the neighborhood? |Response\"\n",
    "]].assign(count=1).pivot_table(\n",
    "    index=\"What is your household income?|Response\",\n",
    "    columns=\"How would you rate the affordability of housing in the neighborhood? |Response\",\n",
    "    values=\"count\",\n",
    "    aggfunc=\"sum\",\n",
    ").sum(axis=0).sum()"
   ]
  },
  {
   "cell_type": "code",
   "execution_count": 6,
   "metadata": {},
   "outputs": [
    {
     "data": {
      "text/plain": [
       "How would you rate the affordability of housing in the neighborhood? |Response\n",
       "Extremely affordable for me/my family       0.043624\n",
       "Extremely unaffordable for me/my family     0.140940\n",
       "Relatively affordable for me/my family      0.345638\n",
       "Relatively unaffordable for me/my family    0.302013\n",
       "Unsure/can't decide                         0.167785\n",
       "dtype: float64"
      ]
     },
     "execution_count": 6,
     "metadata": {},
     "output_type": "execute_result"
    }
   ],
   "source": [
    "df_kingsgate[[\n",
    "    \"What is your household income?|Response\",\n",
    "    \"How would you rate the affordability of housing in the neighborhood? |Response\"\n",
    "]].assign(count=1).pivot_table(\n",
    "    index=\"What is your household income?|Response\",\n",
    "    columns=\"How would you rate the affordability of housing in the neighborhood? |Response\",\n",
    "    values=\"count\",\n",
    "    aggfunc=\"sum\",\n",
    ").sum(axis=0) / df_kingsgate[[\n",
    "    \"What is your household income?|Response\",\n",
    "    \"How would you rate the affordability of housing in the neighborhood? |Response\"\n",
    "]].assign(count=1).pivot_table(\n",
    "    index=\"What is your household income?|Response\",\n",
    "    columns=\"How would you rate the affordability of housing in the neighborhood? |Response\",\n",
    "    values=\"count\",\n",
    "    aggfunc=\"sum\",\n",
    ").sum(axis=0).sum()"
   ]
  },
  {
   "cell_type": "code",
   "execution_count": 7,
   "metadata": {},
   "outputs": [
    {
     "name": "stdout",
     "output_type": "stream",
     "text": [
      "Juanita < $100,000\n"
     ]
    },
    {
     "data": {
      "text/plain": [
       "How would you rate the affordability of housing in the neighborhood? |Response\n",
       "Extremely affordable for me/my family       0.067797\n",
       "Extremely unaffordable for me/my family     0.203390\n",
       "Relatively affordable for me/my family      0.203390\n",
       "Relatively unaffordable for me/my family    0.372881\n",
       "Unsure/can't decide                         0.152542\n",
       "dtype: float64"
      ]
     },
     "execution_count": 7,
     "metadata": {},
     "output_type": "execute_result"
    }
   ],
   "source": [
    "df_juanita_low = df_juanita[[\n",
    "    \"What is your household income?|Response\",\n",
    "    \"How would you rate the affordability of housing in the neighborhood? |Response\"\n",
    "]].assign(count=1).pivot_table(\n",
    "    index=\"What is your household income?|Response\",\n",
    "    columns=\"How would you rate the affordability of housing in the neighborhood? |Response\",\n",
    "    values=\"count\",\n",
    "    aggfunc=\"sum\",\n",
    ").reset_index()\n",
    "df_juanita_low = df_juanita_low[\n",
    "    df_juanita_low[\"What is your household income?|Response\"].isin(\n",
    "        [\n",
    "            \"$15,000 - $24,999\",\n",
    "            \"$25,000 - $34,999\",\n",
    "            \"$35,000 - $49,999\",\n",
    "            \"$50,000 - $74,999\",\n",
    "            \"$75,000 - $99,999\",\n",
    "        ]\n",
    "    )\n",
    "]\n",
    "print(\"Juanita < $100,000\")\n",
    "df_juanita_low.sum(numeric_only=True) / df_juanita_low.sum(numeric_only=True).sum()"
   ]
  },
  {
   "cell_type": "code",
   "execution_count": 8,
   "metadata": {},
   "outputs": [
    {
     "name": "stdout",
     "output_type": "stream",
     "text": [
      "Juanita $100,000 to $200,000\n"
     ]
    },
    {
     "data": {
      "text/plain": [
       "How would you rate the affordability of housing in the neighborhood? |Response\n",
       "Extremely affordable for me/my family       0.061728\n",
       "Extremely unaffordable for me/my family     0.160494\n",
       "Relatively affordable for me/my family      0.234568\n",
       "Relatively unaffordable for me/my family    0.382716\n",
       "Unsure/can't decide                         0.160494\n",
       "dtype: float64"
      ]
     },
     "execution_count": 8,
     "metadata": {},
     "output_type": "execute_result"
    }
   ],
   "source": [
    "df_juanita_medium = df_juanita[[\n",
    "    \"What is your household income?|Response\",\n",
    "    \"How would you rate the affordability of housing in the neighborhood? |Response\"\n",
    "]].assign(count=1).pivot_table(\n",
    "    index=\"What is your household income?|Response\",\n",
    "    columns=\"How would you rate the affordability of housing in the neighborhood? |Response\",\n",
    "    values=\"count\",\n",
    "    aggfunc=\"sum\",\n",
    ").reset_index()\n",
    "df_juanita_medium = df_juanita_medium[\n",
    "    df_juanita_medium[\"What is your household income?|Response\"].isin(\n",
    "        [\n",
    "            \"$100,000 - $149,999\",\n",
    "            \"$150,000 - $199,999\",\n",
    "        ]\n",
    "    )\n",
    "]\n",
    "print(\"Juanita $100,000 to $200,000\")\n",
    "df_juanita_medium.sum(numeric_only=True) / df_juanita_medium.sum(numeric_only=True).sum()"
   ]
  },
  {
   "cell_type": "code",
   "execution_count": 9,
   "metadata": {},
   "outputs": [
    {
     "name": "stdout",
     "output_type": "stream",
     "text": [
      "Juanita $200,000+\n"
     ]
    },
    {
     "data": {
      "text/plain": [
       "How would you rate the affordability of housing in the neighborhood? |Response\n",
       "Extremely affordable for me/my family       0.054054\n",
       "Extremely unaffordable for me/my family     0.108108\n",
       "Relatively affordable for me/my family      0.567568\n",
       "Relatively unaffordable for me/my family    0.162162\n",
       "Unsure/can't decide                         0.108108\n",
       "dtype: float64"
      ]
     },
     "execution_count": 9,
     "metadata": {},
     "output_type": "execute_result"
    }
   ],
   "source": [
    "df_juanita_high = df_juanita[[\n",
    "    \"What is your household income?|Response\",\n",
    "    \"How would you rate the affordability of housing in the neighborhood? |Response\"\n",
    "]].assign(count=1).pivot_table(\n",
    "    index=\"What is your household income?|Response\",\n",
    "    columns=\"How would you rate the affordability of housing in the neighborhood? |Response\",\n",
    "    values=\"count\",\n",
    "    aggfunc=\"sum\",\n",
    ").reset_index()\n",
    "df_juanita_high = df_juanita_high[\n",
    "    df_juanita_high[\"What is your household income?|Response\"].isin(\n",
    "        [\n",
    "            \"$200,000 - $249,999\",\n",
    "            \"$250,000 or more\",\n",
    "        ]\n",
    "    )\n",
    "]\n",
    "print(\"Juanita $200,000+\")\n",
    "df_juanita_high.sum(numeric_only=True) / df_juanita_high.sum(numeric_only=True).sum()"
   ]
  },
  {
   "cell_type": "code",
   "execution_count": 14,
   "metadata": {},
   "outputs": [
    {
     "name": "stdout",
     "output_type": "stream",
     "text": [
      "Kingsgate < $100,000\n"
     ]
    },
    {
     "data": {
      "text/plain": [
       "How would you rate the affordability of housing in the neighborhood? |Response\n",
       "Extremely affordable for me/my family       0.051724\n",
       "Extremely unaffordable for me/my family     0.275862\n",
       "Relatively affordable for me/my family      0.189655\n",
       "Relatively unaffordable for me/my family    0.310345\n",
       "Unsure/can't decide                         0.172414\n",
       "dtype: float64"
      ]
     },
     "execution_count": 14,
     "metadata": {},
     "output_type": "execute_result"
    }
   ],
   "source": [
    "df_kingsgate_low = df_kingsgate[[\n",
    "    \"What is your household income?|Response\",\n",
    "    \"How would you rate the affordability of housing in the neighborhood? |Response\"\n",
    "]].assign(count=1).pivot_table(\n",
    "    index=\"What is your household income?|Response\",\n",
    "    columns=\"How would you rate the affordability of housing in the neighborhood? |Response\",\n",
    "    values=\"count\",\n",
    "    aggfunc=\"sum\",\n",
    ").reset_index()\n",
    "df_kingsgate_low = df_kingsgate_low[\n",
    "    df_kingsgate_low[\"What is your household income?|Response\"].isin(\n",
    "        [\n",
    "            \"$15,000 - $24,999\",\n",
    "            \"$25,000 - $34,999\",\n",
    "            \"$35,000 - $49,999\",\n",
    "            \"$50,000 - $74,999\",\n",
    "            \"$75,000 - $99,999\",\n",
    "        ]\n",
    "    )\n",
    "]\n",
    "print(\"Kingsgate < $100,000\")\n",
    "df_kingsgate_low.sum(numeric_only=True) / df_kingsgate_low.sum(numeric_only=True).sum()"
   ]
  },
  {
   "cell_type": "code",
   "execution_count": 11,
   "metadata": {},
   "outputs": [
    {
     "name": "stdout",
     "output_type": "stream",
     "text": [
      "Kingsgate $100,000 to $200,000\n"
     ]
    },
    {
     "data": {
      "text/plain": [
       "How would you rate the affordability of housing in the neighborhood? |Response\n",
       "Extremely affordable for me/my family       0.0250\n",
       "Extremely unaffordable for me/my family     0.1000\n",
       "Relatively affordable for me/my family      0.3375\n",
       "Relatively unaffordable for me/my family    0.3750\n",
       "Unsure/can't decide                         0.1625\n",
       "dtype: float64"
      ]
     },
     "execution_count": 11,
     "metadata": {},
     "output_type": "execute_result"
    }
   ],
   "source": [
    "df_kingsgate_medium = df_kingsgate[[\n",
    "    \"What is your household income?|Response\",\n",
    "    \"How would you rate the affordability of housing in the neighborhood? |Response\"\n",
    "]].assign(count=1).pivot_table(\n",
    "    index=\"What is your household income?|Response\",\n",
    "    columns=\"How would you rate the affordability of housing in the neighborhood? |Response\",\n",
    "    values=\"count\",\n",
    "    aggfunc=\"sum\",\n",
    ").reset_index()\n",
    "df_kingsgate_medium = df_kingsgate_medium[\n",
    "    df_kingsgate_medium[\"What is your household income?|Response\"].isin(\n",
    "        [\n",
    "            \"$100,000 - $149,999\",\n",
    "            \"$150,000 - $199,999\",\n",
    "        ]\n",
    "    )\n",
    "]\n",
    "print(\"Kingsgate $100,000 to $200,000\")\n",
    "df_kingsgate_medium.sum(numeric_only=True) / df_kingsgate_medium.sum(numeric_only=True).sum()"
   ]
  },
  {
   "cell_type": "code",
   "execution_count": 12,
   "metadata": {},
   "outputs": [
    {
     "name": "stdout",
     "output_type": "stream",
     "text": [
      "Kingsgate $200,000+\n"
     ]
    },
    {
     "data": {
      "text/plain": [
       "How would you rate the affordability of housing in the neighborhood? |Response\n",
       "Extremely affordable for me/my family       0.049383\n",
       "Extremely unaffordable for me/my family     0.024691\n",
       "Relatively affordable for me/my family      0.518519\n",
       "Relatively unaffordable for me/my family    0.271605\n",
       "Unsure/can't decide                         0.135802\n",
       "dtype: float64"
      ]
     },
     "execution_count": 12,
     "metadata": {},
     "output_type": "execute_result"
    }
   ],
   "source": [
    "df_kingsgate_high = df_kingsgate[[\n",
    "    \"What is your household income?|Response\",\n",
    "    \"How would you rate the affordability of housing in the neighborhood? |Response\"\n",
    "]].assign(count=1).pivot_table(\n",
    "    index=\"What is your household income?|Response\",\n",
    "    columns=\"How would you rate the affordability of housing in the neighborhood? |Response\",\n",
    "    values=\"count\",\n",
    "    aggfunc=\"sum\",\n",
    ").reset_index()\n",
    "df_kingsgate_high = df_kingsgate_high[\n",
    "    df_kingsgate_high[\"What is your household income?|Response\"].isin(\n",
    "        [\n",
    "            \"$200,000 - $249,999\",\n",
    "            \"$250,000 or more\",\n",
    "        ]\n",
    "    )\n",
    "]\n",
    "print(\"Kingsgate $200,000+\")\n",
    "df_kingsgate_high.sum(numeric_only=True) / df_kingsgate_high.sum(numeric_only=True).sum()"
   ]
  },
  {
   "cell_type": "code",
   "execution_count": null,
   "metadata": {},
   "outputs": [],
   "source": []
  }
 ],
 "metadata": {
  "kernelspec": {
   "display_name": ".venv",
   "language": "python",
   "name": "python3"
  },
  "language_info": {
   "codemirror_mode": {
    "name": "ipython",
    "version": 3
   },
   "file_extension": ".py",
   "mimetype": "text/x-python",
   "name": "python",
   "nbconvert_exporter": "python",
   "pygments_lexer": "ipython3",
   "version": "3.9.13"
  }
 },
 "nbformat": 4,
 "nbformat_minor": 2
}
